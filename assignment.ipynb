{
  "nbformat": 4,
  "nbformat_minor": 0,
  "metadata": {
    "colab": {
      "provenance": [],
      "authorship_tag": "ABX9TyM4qECq5FEMx4fqsPGjyaVs",
      "include_colab_link": true
    },
    "kernelspec": {
      "name": "python3",
      "display_name": "Python 3"
    },
    "language_info": {
      "name": "python"
    }
  },
  "cells": [
    {
      "cell_type": "markdown",
      "metadata": {
        "id": "view-in-github",
        "colab_type": "text"
      },
      "source": [
        "<a href=\"https://colab.research.google.com/github/Rohit-qaz/Rohit-qaz/blob/main/assignment.ipynb\" target=\"_parent\"><img src=\"https://colab.research.google.com/assets/colab-badge.svg\" alt=\"Open In Colab\"/></a>"
      ]
    },
    {
      "cell_type": "code",
      "execution_count": null,
      "metadata": {
        "id": "aRGWYReFkVE-"
      },
      "outputs": [],
      "source": []
    },
    {
      "cell_type": "markdown",
      "source": [
        "#Python Assignment"
      ],
      "metadata": {
        "id": "BB6YXtdWkVzP"
      }
    },
    {
      "cell_type": "markdown",
      "source": [
        "##Write a program that computes the net amount of a bank account based on a transaction log from console input. The transaction log / sample input is in the format as shown below:\n",
        "\n",
        "\n",
        "\n",
        "Input\n",
        "\n",
        "log_message = D:100 W:10\n",
        "\n",
        "Output\n",
        "\n",
        "90\n",
        "\n",
        "Input\n",
        "\n",
        "Log_message = D:100 W:200 D:400\n",
        "\n",
        "Output\n",
        "\n",
        "300 (100 - 200 + 400 = 300)"
      ],
      "metadata": {
        "id": "HHVufXsskgL6"
      }
    },
    {
      "cell_type": "code",
      "source": [
        "def deposit(num):\n",
        "    global balance\n",
        "    balance = balance + num\n",
        "\n",
        "def withdraw(num):\n",
        "    global balance\n",
        "    balance = balance - num\n",
        "\n",
        "balance=0\n",
        "D=input(\"Insert the log messege=\")\n",
        "D1=[x.split(\":\") for x in D.split(\" \")]\n",
        "print(D1)\n",
        "for e in D1:\n",
        "  if e[0] == 'D':\n",
        "    deposit(int(e[1]))\n",
        "  elif e[0] == 'W':\n",
        "    withdraw(int(e[1]))\n",
        "print(\"Bal=\",balance)\n"
      ],
      "metadata": {
        "id": "eXUt5jmUkbP3"
      },
      "execution_count": null,
      "outputs": []
    },
    {
      "cell_type": "markdown",
      "source": [
        "##Write a program that prompts the user to input number of calls and calculate the monthly telephone bills as per the following rule:\n",
        "\n",
        "\n",
        "\n",
        "● Minimum Rs. 200 for up to 100 calls.\n",
        "\n",
        "● Plus Rs. 0.60 per call for next 50 calls.\n",
        "\n",
        "● Plus Rs. 0.50 per call for next 50 calls.\n",
        "\n",
        "● Plus Rs. 0.40 per call for any call beyond 200 calls."
      ],
      "metadata": {
        "id": "quRqSOYbkm0z"
      }
    },
    {
      "cell_type": "code",
      "source": [
        "call=int(input('Enter total number of calls '))\n",
        "bill=0\n",
        "\n",
        "if call<=100:\n",
        "  bill=200\n",
        "elif call>100 and call <= 150:\n",
        "  bill=200+(call-100)*0.60\n",
        "elif call >150 and call <=200:\n",
        "  bill=200+(50*0.60)+(call-150)*0.50\n",
        "elif call > 200:\n",
        "  bill=200+(50*0.60)+(50*0.50)+(call-200)*0.40\n",
        "print(bill)"
      ],
      "metadata": {
        "colab": {
          "base_uri": "https://localhost:8080/"
        },
        "id": "lpCxx11YlfUV",
        "outputId": "6b465d3f-40d9-42f3-97b4-010ab2efd965"
      },
      "execution_count": null,
      "outputs": [
        {
          "output_type": "stream",
          "name": "stdout",
          "text": [
            "Enter total number of calls 300\n",
            "295.0\n"
          ]
        }
      ]
    },
    {
      "cell_type": "code",
      "source": [],
      "metadata": {
        "id": "EJg9vMsrmVmX"
      },
      "execution_count": null,
      "outputs": []
    },
    {
      "cell_type": "markdown",
      "source": [
        "#Write a Python function to sum all the numbers in a list.\n",
        "\n",
        "\n",
        "\n",
        "Sample List : [8, 2, 3, 0, 7]\n",
        "\n",
        "Expected Output : 20\n",
        "\n",
        "Explanation:\n",
        "\n",
        "Summation should like 8+2+3+0+7 = 20"
      ],
      "metadata": {
        "id": "I9Xp27hstXd2"
      }
    },
    {
      "cell_type": "code",
      "source": [
        "def tot(num):\n",
        "  print(sum(num))\n",
        "\n",
        "\n",
        "l1=[8,2,3,0,7]\n",
        "tot(l1)"
      ],
      "metadata": {
        "colab": {
          "base_uri": "https://localhost:8080/"
        },
        "id": "h6rI-5JMtdwj",
        "outputId": "48602204-e308-4045-f660-07378177d29f"
      },
      "execution_count": null,
      "outputs": [
        {
          "output_type": "stream",
          "name": "stdout",
          "text": [
            "20\n"
          ]
        }
      ]
    },
    {
      "cell_type": "markdown",
      "source": [
        "##Write a Python program to reverse a string.\n",
        "\n",
        "\n",
        "\n",
        "﻿Sample String : \"1234abcd\"\n",
        "\n",
        "Expected Output : \"dcba4321\""
      ],
      "metadata": {
        "id": "hXApgUJNL19t"
      }
    },
    {
      "cell_type": "code",
      "source": [
        "s='1234abcd'\n",
        "print(s[::-1])"
      ],
      "metadata": {
        "colab": {
          "base_uri": "https://localhost:8080/"
        },
        "id": "XkE4bkOlt8rm",
        "outputId": "81d6813b-07e7-42fa-f99c-48a5d30bbbdf"
      },
      "execution_count": null,
      "outputs": [
        {
          "output_type": "stream",
          "name": "stdout",
          "text": [
            "dcba4321\n"
          ]
        }
      ]
    },
    {
      "cell_type": "markdown",
      "source": [
        "##Write a Python function that accepts a string and calculates the number of uppercase letters and lower case letters.\n",
        "\n",
        "\n",
        "\n",
        "Sample String : 'The quick Brow Fox'\n",
        "\n",
        "Expected Output :\n",
        "\n",
        "No. of Upper case characters : 3\n",
        "\n",
        "No. of Lower case Characters : 12"
      ],
      "metadata": {
        "id": "HFAvPBgfMiR_"
      }
    },
    {
      "cell_type": "code",
      "source": [
        "def fun1(s):\n",
        "    d={\"UPPER_CASE\":0, \"LOWER_CASE\":0}\n",
        "    for c in s:\n",
        "        if c.isupper():\n",
        "           d[\"UPPER_CASE\"]+=1\n",
        "        elif c.islower():\n",
        "           d[\"LOWER_CASE\"]+=1\n",
        "        else:\n",
        "           pass\n",
        "    print (\"Input String : \", s)\n",
        "    print (\"No. of Upper case characters : \", d[\"UPPER_CASE\"])\n",
        "    print (\"No. of Lower case Characters : \", d[\"LOWER_CASE\"])\n",
        "\n",
        "fun1('The quick Brown Fox')"
      ],
      "metadata": {
        "colab": {
          "base_uri": "https://localhost:8080/"
        },
        "id": "BuFKrCDTMA-q",
        "outputId": "b681d678-d718-4e14-f46b-821bad4e8683"
      },
      "execution_count": null,
      "outputs": [
        {
          "output_type": "stream",
          "name": "stdout",
          "text": [
            "Input String :  The quick Brown Fox\n",
            "No. of Upper case characters :  3\n",
            "No. of Lower case Characters :  13\n"
          ]
        }
      ]
    },
    {
      "cell_type": "code",
      "source": [],
      "metadata": {
        "id": "Wqh4ZyLfNYO8"
      },
      "execution_count": null,
      "outputs": []
    },
    {
      "cell_type": "markdown",
      "source": [
        "#Assignment 1\n",
        "👉 1. Create a JSON file (employee.json) containing employee information of minimum 5 employees. Each employee information consists of Name, DOB, Height, City, State. Write a python program that reads this information from the JSON file and saves the information into a list of objects of Employee class. Finally print the list of the Employee objects.\n",
        "\n",
        "👉 2. Create a dictionary of any 7 Indian states and their capitals. Write this into a JSON file."
      ],
      "metadata": {
        "id": "xuf8ErJ_47Ck"
      }
    },
    {
      "cell_type": "code",
      "source": [
        "#Sample JSON\n",
        "emp={'Name': ['Ram','Sham','Rohit','Vikas','Sam'],'DOB': ['1991-11-11','1992-12-22','1993-01-01','1994-02-02','1995-03-03']\n",
        "     ,'Height':['181','182','183','184','185'] ,'City': ['Pune','Pune','Satara','Nashik','Mumbai'] , 'State':['Maharashtra','Maharashtra','Maharashtra','Maharashtra','Maharashtra']}\n",
        "\n",
        "#l=[]\n",
        "#for i in range(len(emp.values())):\n",
        "#  for k,v in emp.items():\n",
        "#    l.append(f\"{k}:{v[i]}\")\n",
        "#print(l)\n",
        "\n",
        "\n",
        "class employee():\n",
        "\n",
        "  def __init__(self,emp):\n",
        "    self.emp=emp\n",
        "\n",
        "  def dis(self):\n",
        "    l=[]\n",
        "    for i in range(len(emp.values())):\n",
        "      for k,v in emp.items():\n",
        "        l.append(f\"{k}:{v[i]}\")\n",
        "    print(l)\n",
        "\n",
        "\n",
        "obj = employee(emp)\n",
        "obj.dis()"
      ],
      "metadata": {
        "colab": {
          "base_uri": "https://localhost:8080/"
        },
        "id": "CDw941hN4_zP",
        "outputId": "95e335df-7132-4334-e81a-a5ab6cbfd4c4"
      },
      "execution_count": null,
      "outputs": [
        {
          "output_type": "stream",
          "name": "stdout",
          "text": [
            "['Name:Ram', 'DOB:1991-11-11', 'Height:181', 'City:Pune', 'State:Maharashtra', 'Name:Sham', 'DOB:1992-12-22', 'Height:182', 'City:Pune', 'State:Maharashtra', 'Name:Rohit', 'DOB:1993-01-01', 'Height:183', 'City:Satara', 'State:Maharashtra', 'Name:Vikas', 'DOB:1994-02-02', 'Height:184', 'City:Nashik', 'State:Maharashtra', 'Name:Sam', 'DOB:1995-03-03', 'Height:185', 'City:Mumbai', 'State:Maharashtra']\n"
          ]
        }
      ]
    },
    {
      "cell_type": "code",
      "source": [],
      "metadata": {
        "id": "9jK1Utv59A2W"
      },
      "execution_count": null,
      "outputs": []
    },
    {
      "cell_type": "markdown",
      "source": [
        "#Assignment 2\n",
        "👉 1. Create a class named ‘Dog’. It should have a constructor which accepts its name, age and coat color. You must perform the following operations:\n",
        "\n",
        "a. It should have a function ‘description()’ which prints the name and age of the dog.\n",
        "\n",
        "b. It should have a function ‘get_info()’ which prints the coat color of the dog.\n",
        "\n",
        "c. Create child classes ‘JackRussellTerrier’ and ‘Bulldog’ which is inherited from the class ‘Dog’. It should have at least two methods of its own.\n",
        "\n",
        "d. Create objects and implement the above functionalities."
      ],
      "metadata": {
        "id": "aZfG9ispFgVc"
      }
    },
    {
      "cell_type": "code",
      "source": [
        "class Dog:\n",
        "\n",
        "    def __init__(self, name, age, coat):\n",
        "        self.name = name\n",
        "        self.age = age\n",
        "        self.coat = coat\n",
        "\n",
        "    def description(self):\n",
        "      return f\"'Name':{self.name},'Age':{self.age}\"\n",
        "\n",
        "    def get_info(self):\n",
        "      return f\"'Coat':{self.coat}\"\n",
        "\n",
        "\n",
        "class JackRussellTerrier(Dog):\n",
        "\n",
        "  def bark(self):\n",
        "    return f\"Woof!\"\n",
        "\n",
        "class Bulldog(Dog):\n",
        "\n",
        "  def action(self):\n",
        "    return f\"Attack\"\n",
        "\n",
        "my_dog = Dog(\"Rex\", \"3\", \"red\")\n",
        "obj1 = JackRussellTerrier('Jack', '6', 'Black')\n",
        "obj2 = Bulldog('Jannet', '6', 'Orange')\n",
        "print(my_dog.description())\n",
        "print(my_dog.get_info())\n",
        "print(obj1.bark())\n",
        "print(obj2.action())"
      ],
      "metadata": {
        "colab": {
          "base_uri": "https://localhost:8080/"
        },
        "id": "6bpr9RhIFXg5",
        "outputId": "b09dabe6-966b-491f-8730-e4278b3d17f4"
      },
      "execution_count": null,
      "outputs": [
        {
          "output_type": "stream",
          "name": "stdout",
          "text": [
            "'Name':Rex,'Age':3\n",
            "'Coat':red\n",
            "Woof!\n",
            "Attack\n"
          ]
        }
      ]
    },
    {
      "cell_type": "code",
      "source": [],
      "metadata": {
        "id": "GUROVSA-IlrR"
      },
      "execution_count": null,
      "outputs": []
    },
    {
      "cell_type": "markdown",
      "source": [
        "#Challenge 1: Square Numbers and Return Their Sum\n",
        "🔴 In this challenge, you need to implement a method that squares passing variables and returns their sum.\n",
        "\n",
        "Problem statement: Implement a class Point that has three properties and a method. All these attributes (properties and methods) should be public. This problem can be broken down into two tasks:\n",
        "\n",
        "Task 1: 👉 Implement a constructor to initialize the values of three properties: x, y, and z.\n",
        "\n",
        "Task 2: 👉 Implement a method, sqSum(), in the Point class which squares x, y, and z and returns their sum.\n",
        "\n",
        "Sample properties 1, 3, 5\n",
        "\n",
        "Sample method output 35"
      ],
      "metadata": {
        "id": "7WOBwXzEJPsT"
      }
    },
    {
      "cell_type": "code",
      "source": [
        "class math:\n",
        "\n",
        "  def __init__(self,num1,num2,num3):\n",
        "    self.num1=num1\n",
        "    self.num2=num2\n",
        "    self.num3=num3\n",
        "\n",
        "  def square(self):\n",
        "    return f\"{self.num1}**2 : {self.num1**2} , {self.num2}**2 : {self.num2**2} , {self.num3}**2 : {self.num3**2}\"\n",
        "  def sqSum(self):\n",
        "    return f\"{self.num1**2}+{self.num2**2}+{self.num3**2} = {self.num1**2+self.num2**2+self.num3**2}\"\n",
        "\n",
        "obj = math(1,3,5)\n",
        "print(obj.square())\n",
        "print(obj.sqSum())"
      ],
      "metadata": {
        "colab": {
          "base_uri": "https://localhost:8080/"
        },
        "id": "Qzz9a91YejgP",
        "outputId": "be2dd915-fcb2-4d82-d630-35e2bcf3230c"
      },
      "execution_count": null,
      "outputs": [
        {
          "output_type": "stream",
          "name": "stdout",
          "text": [
            "1**2 : 1 , 3**2 : 9 , 5**2 : 25\n",
            "1+9+25 = 35\n"
          ]
        }
      ]
    },
    {
      "cell_type": "code",
      "source": [],
      "metadata": {
        "id": "3ZdlHXAVgcXK"
      },
      "execution_count": null,
      "outputs": []
    },
    {
      "cell_type": "markdown",
      "source": [
        "#Challenge 2: Implement a Calculator Class\n",
        "🔴 In this exercise, you have to implement a calculator that can perform addition, subtraction, multiplication, and division.\n",
        "\n",
        "Problem statement Write a Python class called Calculator by completing the tasks below:\n",
        "\n",
        "Task 1\n",
        "\n",
        "👉 Initializer\n",
        "\n",
        "Implement an initializer to initialize the values of num1 and num2. Properties\n",
        "\n",
        "• num1\n",
        "• num2\n",
        "Task 2\n",
        "\n",
        "👉 Methods\n",
        "\n",
        "add() is a method that returns the sum of num1 and num2.\n",
        "\n",
        "subtract() is a method that returns the subtraction of num1 from num2.\n",
        "\n",
        "multiply() is a method that returns the product of num1 and num2.\n",
        "\n",
        "divide() is a method that returns the division of num2 by num1.\n",
        "\n",
        "Input - Pass numbers (integers or floats) in the initializer.\n",
        "\n",
        "Output - addition, subtraction, division, and multiplication"
      ],
      "metadata": {
        "id": "wfXqowezh9yU"
      }
    },
    {
      "cell_type": "code",
      "source": [
        "class Cal:\n",
        "\n",
        "  def __init__(self,x,y):\n",
        "    self.x=x\n",
        "    self.y=y\n",
        "\n",
        "  def add(self):\n",
        "    return f\"{self.x+self.y}\"\n",
        "\n",
        "  def sub(self):\n",
        "    return f\"{self.x-self.y}\"\n",
        "\n",
        "  def mul(self):\n",
        "    return f\"{self.x*self.y}\"\n",
        "\n",
        "  def div(self):\n",
        "    return f\"{round(self.y/self.x,2)}\"\n",
        "\n",
        "obj=Cal(11,947)\n",
        "print(obj.add())\n",
        "print(obj.sub())\n",
        "print(obj.mul())\n",
        "print(obj.div())"
      ],
      "metadata": {
        "colab": {
          "base_uri": "https://localhost:8080/"
        },
        "id": "KffFAiwzh--i",
        "outputId": "8c90bedb-6d1f-48b9-ef1d-7fba19c7cca6"
      },
      "execution_count": null,
      "outputs": [
        {
          "output_type": "stream",
          "name": "stdout",
          "text": [
            "958\n",
            "-936\n",
            "10417\n",
            "86.09\n"
          ]
        }
      ]
    },
    {
      "cell_type": "code",
      "source": [],
      "metadata": {
        "id": "tLk7jFmjjRTr"
      },
      "execution_count": null,
      "outputs": []
    },
    {
      "cell_type": "markdown",
      "source": [
        "#Challenge 3: Implement the Complete Student Class\n",
        "🔴In this challenge, you will implement a student class\n",
        "Problem statement\n",
        "\n",
        "Implement the complete Student class by completing the tasks below\n",
        "\n",
        "Task\n",
        "\n",
        "👉 Implement the following properties as private:\n",
        "\n",
        "• name\n",
        "• rollNumber\n",
        "👉 Include the following methods to get and set the private properties above:\n",
        "\n",
        "• getName()\n",
        "• setName()\n",
        "• getRollNumber()\n",
        "• setRollNumber()\n",
        "👉 Implement this class according to the rules of encapsulation.\n",
        "\n",
        "Input - Checking all the properties and methods\n",
        "\n",
        "Output - Expecting perfectly defined fields and getter/setters\n",
        "\n",
        "Note: Do not use initializers to initialize the properties. Use the set methods to do so.\n",
        "\n",
        "If the setter is not defined properly, the corresponding getter will also generate an error even if the getter is defined properly."
      ],
      "metadata": {
        "id": "c0Y3RH52j7zn"
      }
    },
    {
      "cell_type": "code",
      "source": [
        "class Student:\n",
        "\n",
        "    def setName(self,name):\n",
        "        self.name=name\n",
        "    def getName(self):\n",
        "        return f\"Name = {self.name}\"\n",
        "    def setRollNumber(self,rollno):\n",
        "        self.rollno=rollno\n",
        "    def getRollNumber(self):\n",
        "        return f\"RollNo = {self.rollno}\"\n",
        "\n",
        "a=Student()\n",
        "a.setName(\"Rahul\")\n",
        "a.setRollNumber(\"2\")\n",
        "print(a.getName())\n",
        "print(a.getRollNumber())"
      ],
      "metadata": {
        "colab": {
          "base_uri": "https://localhost:8080/"
        },
        "id": "3QtRAtpzj9HG",
        "outputId": "c27454d5-2ccb-4c1c-860f-efee5a7f5fa5"
      },
      "execution_count": null,
      "outputs": [
        {
          "output_type": "stream",
          "name": "stdout",
          "text": [
            "Name = Rahul\n",
            "RollNo = 2\n"
          ]
        }
      ]
    },
    {
      "cell_type": "code",
      "source": [],
      "metadata": {
        "id": "uCxl4nYDk-F0"
      },
      "execution_count": null,
      "outputs": []
    },
    {
      "cell_type": "markdown",
      "source": [],
      "metadata": {
        "id": "uNxlo0yLlIMn"
      }
    },
    {
      "cell_type": "code",
      "source": [
        "class Account:\n",
        "\n",
        "  def __init__(self,name,balance):\n",
        "     self.name=name\n",
        "     self.balance=balance\n",
        "  def getinfo(self):\n",
        "     return f\"Name = {self.name}, Balance = {self.balance}\"\n",
        "\n",
        "class SavingsAccount(Account):\n",
        "\n",
        "    def intr(self,rate):\n",
        "        self.rate=rate\n",
        "        return f\"Interest = {(self.balance*self.rate*1)/100}\"\n",
        "\n",
        "z=Account(\"Rohit\",5000)\n",
        "p=SavingsAccount(\"Rohit\",5000)\n",
        "print(z.getinfo())\n",
        "print(p.intr(5))"
      ],
      "metadata": {
        "colab": {
          "base_uri": "https://localhost:8080/"
        },
        "id": "TEle_824p9Dz",
        "outputId": "efdf3b8e-cae9-45ec-a396-dd70285423d9"
      },
      "execution_count": null,
      "outputs": [
        {
          "output_type": "stream",
          "name": "stdout",
          "text": [
            "Name = Rohit, Balance = 5000\n",
            "Interest = 250.0\n"
          ]
        }
      ]
    },
    {
      "cell_type": "code",
      "source": [],
      "metadata": {
        "id": "RtXpGHxoqywL"
      },
      "execution_count": null,
      "outputs": []
    },
    {
      "cell_type": "code",
      "source": [
        "class Account:\n",
        "\n",
        "    def __init__(self, title=None, balance=0):\n",
        "        self.title = title\n",
        "        self.balance = balance\n",
        "\n",
        "    def withdrawal(self, amount):\n",
        "        self.balance=self.balance+amount\n",
        "\n",
        "    def deposit(self, amount):\n",
        "      if balance > amount:\n",
        "        self.balance=self.balance-amount\n",
        "      else:\n",
        "        print(\"Low balance\")\n",
        "\n",
        "    def getBalance(self):\n",
        "        return f\"Balance = {self.balance}\"\n",
        "        pass\n",
        "\n",
        "class SavingsAccount(Account):\n",
        "    def __init__(self, title=None, balance=0, interestRate=0):\n",
        "            super().__init__(title, balance)\n",
        "            self.interestRate = interestRate\n",
        "\n",
        "    def interestAmount(self):\n",
        "        return f\"InterestAmount = {(self.interestRate*self.balance)/100}\"\n",
        "\n",
        "#code to test - do not edit this\n",
        "\n",
        "demo1 = SavingsAccount(\"Ashish\", 2000, 5)   # initializing a SavingsAccount object\n",
        "print(demo1.interestAmount())"
      ],
      "metadata": {
        "colab": {
          "base_uri": "https://localhost:8080/"
        },
        "id": "uUYntwqPwGFq",
        "outputId": "23a9c074-878e-42dc-d3c3-f37faada9253"
      },
      "execution_count": null,
      "outputs": [
        {
          "output_type": "stream",
          "name": "stdout",
          "text": [
            "InterestAmount = 100.0\n"
          ]
        }
      ]
    },
    {
      "cell_type": "code",
      "source": [],
      "metadata": {
        "id": "i7bvP0AJxMkn"
      },
      "execution_count": null,
      "outputs": []
    }
  ]
}